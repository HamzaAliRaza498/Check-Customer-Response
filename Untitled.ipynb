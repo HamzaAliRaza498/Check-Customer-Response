{
 "cells": [
  {
   "cell_type": "code",
   "execution_count": null,
   "id": "946c042d-0591-4f43-aa3a-ebb4bd2a2962",
   "metadata": {},
   "outputs": [
    {
     "name": "stdout",
     "output_type": "stream",
     "text": [
      "Model Accuracy: 1.0\n"
     ]
    }
   ],
   "source": [
    "import numpy as np\n",
    "import pandas as pd\n",
    "from sklearn.model_selection import train_test_split\n",
    "from sklearn.linear_model import LogisticRegression\n",
    "\n",
    "# Make a Data array with 4 sets of data \n",
    "# 1st value means Age\n",
    "# 2nd value means Time spent\n",
    "# 3rd value means Yes[1] or No[0]\n",
    "X = np.array([[25, 30, 0], [30, 40, 1], [20, 35, 0], [35, 45, 1]])\n",
    "Y = np.array([0, 1, 0, 1])  # Target labels (Yes[1] or No[0])\n",
    "\n",
    "# Split the data into training and test sets\n",
    "X_train, X_test, Y_train, Y_test = train_test_split(X, Y, test_size=0.2, random_state=42)\n",
    "\n",
    "# Create the logistic regression model\n",
    "Model = LogisticRegression()\n",
    "\n",
    "# Train the model\n",
    "Model.fit(X_train, Y_train)\n",
    "\n",
    "# Check the accuracy (Optional)\n",
    "Accuracy = Model.score(X_test, Y_test)\n",
    "print(f\"Model Accuracy: {Accuracy}\")\n",
    "#User input\n",
    "User_age = float(input(\"Enter Customer Age\"))\n",
    "User_Timespend = float(input(\"Enter a time that you spended on site\"))\n",
    "User_Added_cart = int(input(\"Enter 1 if added to cart,Else Enter 0\"))\n",
    "User_array = np.array([[User_age,User_Timespend,User_Added_cart]])\n",
    "prediction = Model.predict(User_array)\n",
    "if prediction == 1:\n",
    "    print(\"I think You likely to purchase How i can help you sir\")\n",
    "else:\n",
    "    print(\"I think You  Unlikely to Purchase thanks for Visiitng\")\n",
    "    "
   ]
  },
  {
   "cell_type": "code",
   "execution_count": null,
   "id": "b3ac7553-95f4-4c38-9215-a685d840e33c",
   "metadata": {},
   "outputs": [],
   "source": []
  }
 ],
 "metadata": {
  "kernelspec": {
   "display_name": "Python 3 (ipykernel)",
   "language": "python",
   "name": "python3"
  },
  "language_info": {
   "codemirror_mode": {
    "name": "ipython",
    "version": 3
   },
   "file_extension": ".py",
   "mimetype": "text/x-python",
   "name": "python",
   "nbconvert_exporter": "python",
   "pygments_lexer": "ipython3",
   "version": "3.12.5"
  }
 },
 "nbformat": 4,
 "nbformat_minor": 5
}
